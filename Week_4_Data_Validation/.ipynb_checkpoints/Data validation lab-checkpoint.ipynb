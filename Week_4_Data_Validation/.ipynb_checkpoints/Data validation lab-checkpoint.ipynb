{
 "cells": [
  {
   "cell_type": "code",
   "execution_count": 62,
   "metadata": {},
   "outputs": [],
   "source": [
    "import pandas as pd\n",
    "import pandas.api.types as ptypes\n",
    "import datetime\n",
    "import matplotlib.pyplot as plt\n",
    "import seaborn as sns\n",
    "\n",
    "df = pd.read_csv(\"data.csv\")"
   ]
  },
  {
   "cell_type": "code",
   "execution_count": 2,
   "metadata": {},
   "outputs": [
    {
     "data": {
      "text/html": [
       "<div>\n",
       "<style scoped>\n",
       "    .dataframe tbody tr th:only-of-type {\n",
       "        vertical-align: middle;\n",
       "    }\n",
       "\n",
       "    .dataframe tbody tr th {\n",
       "        vertical-align: top;\n",
       "    }\n",
       "\n",
       "    .dataframe thead th {\n",
       "        text-align: right;\n",
       "    }\n",
       "</style>\n",
       "<table border=\"1\" class=\"dataframe\">\n",
       "  <thead>\n",
       "    <tr style=\"text-align: right;\">\n",
       "      <th></th>\n",
       "      <th>Crash ID</th>\n",
       "      <th>Record Type</th>\n",
       "      <th>Vehicle ID</th>\n",
       "      <th>Participant ID</th>\n",
       "      <th>Participant Display Seq#</th>\n",
       "      <th>Vehicle Coded Seq#</th>\n",
       "      <th>Participant Vehicle Seq#</th>\n",
       "      <th>Serial #</th>\n",
       "      <th>Crash Month</th>\n",
       "      <th>Crash Day</th>\n",
       "      <th>...</th>\n",
       "      <th>Participant Cause 2 Code</th>\n",
       "      <th>Participant Cause 3 Code</th>\n",
       "      <th>Participant Event 1 Code</th>\n",
       "      <th>Participant Event 2 Code</th>\n",
       "      <th>Participant Event 3 Code</th>\n",
       "      <th>BAC Test Results Code</th>\n",
       "      <th>Alcohol Use Reported</th>\n",
       "      <th>Drug Use Reported</th>\n",
       "      <th>Participant Marijuana Use Reported</th>\n",
       "      <th>Participant Striker Flag</th>\n",
       "    </tr>\n",
       "  </thead>\n",
       "  <tbody>\n",
       "    <tr>\n",
       "      <th>0</th>\n",
       "      <td>1809119</td>\n",
       "      <td>1</td>\n",
       "      <td>NaN</td>\n",
       "      <td>NaN</td>\n",
       "      <td>NaN</td>\n",
       "      <td>NaN</td>\n",
       "      <td>NaN</td>\n",
       "      <td>99992.0</td>\n",
       "      <td>3.0</td>\n",
       "      <td>14.0</td>\n",
       "      <td>...</td>\n",
       "      <td>NaN</td>\n",
       "      <td>NaN</td>\n",
       "      <td>NaN</td>\n",
       "      <td>NaN</td>\n",
       "      <td>NaN</td>\n",
       "      <td>NaN</td>\n",
       "      <td>NaN</td>\n",
       "      <td>NaN</td>\n",
       "      <td>NaN</td>\n",
       "      <td>NaN</td>\n",
       "    </tr>\n",
       "    <tr>\n",
       "      <th>1</th>\n",
       "      <td>1809119</td>\n",
       "      <td>2</td>\n",
       "      <td>3409578.0</td>\n",
       "      <td>NaN</td>\n",
       "      <td>NaN</td>\n",
       "      <td>1.0</td>\n",
       "      <td>NaN</td>\n",
       "      <td>NaN</td>\n",
       "      <td>NaN</td>\n",
       "      <td>NaN</td>\n",
       "      <td>...</td>\n",
       "      <td>NaN</td>\n",
       "      <td>NaN</td>\n",
       "      <td>NaN</td>\n",
       "      <td>NaN</td>\n",
       "      <td>NaN</td>\n",
       "      <td>NaN</td>\n",
       "      <td>NaN</td>\n",
       "      <td>NaN</td>\n",
       "      <td>NaN</td>\n",
       "      <td>NaN</td>\n",
       "    </tr>\n",
       "    <tr>\n",
       "      <th>2</th>\n",
       "      <td>1809119</td>\n",
       "      <td>3</td>\n",
       "      <td>3409578.0</td>\n",
       "      <td>3887884.0</td>\n",
       "      <td>1.0</td>\n",
       "      <td>1.0</td>\n",
       "      <td>1.0</td>\n",
       "      <td>NaN</td>\n",
       "      <td>NaN</td>\n",
       "      <td>NaN</td>\n",
       "      <td>...</td>\n",
       "      <td>NaN</td>\n",
       "      <td>0.0</td>\n",
       "      <td>9.0</td>\n",
       "      <td>0.0</td>\n",
       "      <td>0.0</td>\n",
       "      <td>NaN</td>\n",
       "      <td>NaN</td>\n",
       "      <td>NaN</td>\n",
       "      <td>NaN</td>\n",
       "      <td>NaN</td>\n",
       "    </tr>\n",
       "    <tr>\n",
       "      <th>3</th>\n",
       "      <td>1809119</td>\n",
       "      <td>2</td>\n",
       "      <td>3409579.0</td>\n",
       "      <td>NaN</td>\n",
       "      <td>NaN</td>\n",
       "      <td>2.0</td>\n",
       "      <td>NaN</td>\n",
       "      <td>NaN</td>\n",
       "      <td>NaN</td>\n",
       "      <td>NaN</td>\n",
       "      <td>...</td>\n",
       "      <td>NaN</td>\n",
       "      <td>NaN</td>\n",
       "      <td>NaN</td>\n",
       "      <td>NaN</td>\n",
       "      <td>NaN</td>\n",
       "      <td>NaN</td>\n",
       "      <td>NaN</td>\n",
       "      <td>NaN</td>\n",
       "      <td>NaN</td>\n",
       "      <td>NaN</td>\n",
       "    </tr>\n",
       "    <tr>\n",
       "      <th>4</th>\n",
       "      <td>1809119</td>\n",
       "      <td>3</td>\n",
       "      <td>3409579.0</td>\n",
       "      <td>3887885.0</td>\n",
       "      <td>2.0</td>\n",
       "      <td>2.0</td>\n",
       "      <td>1.0</td>\n",
       "      <td>NaN</td>\n",
       "      <td>NaN</td>\n",
       "      <td>NaN</td>\n",
       "      <td>...</td>\n",
       "      <td>NaN</td>\n",
       "      <td>NaN</td>\n",
       "      <td>9.0</td>\n",
       "      <td>9.0</td>\n",
       "      <td>0.0</td>\n",
       "      <td>NaN</td>\n",
       "      <td>NaN</td>\n",
       "      <td>NaN</td>\n",
       "      <td>NaN</td>\n",
       "      <td>NaN</td>\n",
       "    </tr>\n",
       "  </tbody>\n",
       "</table>\n",
       "<p>5 rows × 157 columns</p>\n",
       "</div>"
      ],
      "text/plain": [
       "   Crash ID  Record Type  Vehicle ID  Participant ID  \\\n",
       "0   1809119            1         NaN             NaN   \n",
       "1   1809119            2   3409578.0             NaN   \n",
       "2   1809119            3   3409578.0       3887884.0   \n",
       "3   1809119            2   3409579.0             NaN   \n",
       "4   1809119            3   3409579.0       3887885.0   \n",
       "\n",
       "   Participant Display Seq#  Vehicle Coded Seq#  Participant Vehicle Seq#  \\\n",
       "0                       NaN                 NaN                       NaN   \n",
       "1                       NaN                 1.0                       NaN   \n",
       "2                       1.0                 1.0                       1.0   \n",
       "3                       NaN                 2.0                       NaN   \n",
       "4                       2.0                 2.0                       1.0   \n",
       "\n",
       "   Serial #  Crash Month  Crash Day  ...  Participant Cause 2 Code  \\\n",
       "0   99992.0          3.0       14.0  ...                       NaN   \n",
       "1       NaN          NaN        NaN  ...                       NaN   \n",
       "2       NaN          NaN        NaN  ...                       NaN   \n",
       "3       NaN          NaN        NaN  ...                       NaN   \n",
       "4       NaN          NaN        NaN  ...                       NaN   \n",
       "\n",
       "   Participant Cause 3 Code  Participant Event 1 Code  \\\n",
       "0                       NaN                       NaN   \n",
       "1                       NaN                       NaN   \n",
       "2                       0.0                       9.0   \n",
       "3                       NaN                       NaN   \n",
       "4                       NaN                       9.0   \n",
       "\n",
       "   Participant Event 2 Code  Participant Event 3 Code  BAC Test Results Code  \\\n",
       "0                       NaN                       NaN                    NaN   \n",
       "1                       NaN                       NaN                    NaN   \n",
       "2                       0.0                       0.0                    NaN   \n",
       "3                       NaN                       NaN                    NaN   \n",
       "4                       9.0                       0.0                    NaN   \n",
       "\n",
       "   Alcohol Use Reported  Drug Use Reported  \\\n",
       "0                   NaN                NaN   \n",
       "1                   NaN                NaN   \n",
       "2                   NaN                NaN   \n",
       "3                   NaN                NaN   \n",
       "4                   NaN                NaN   \n",
       "\n",
       "   Participant Marijuana Use Reported  Participant Striker Flag  \n",
       "0                                 NaN                       NaN  \n",
       "1                                 NaN                       NaN  \n",
       "2                                 NaN                       NaN  \n",
       "3                                 NaN                       NaN  \n",
       "4                                 NaN                       NaN  \n",
       "\n",
       "[5 rows x 157 columns]"
      ]
     },
     "execution_count": 2,
     "metadata": {},
     "output_type": "execute_result"
    }
   ],
   "source": [
    "df.head()"
   ]
  },
  {
   "cell_type": "code",
   "execution_count": 16,
   "metadata": {},
   "outputs": [],
   "source": [
    "# Every participant record has a vehicle ID\n",
    "if 'Vehicle ID' not in df.columns:\n",
    "    print(\"Vehicle ID doesn't exist in table!\")\n",
    "    \n",
    "for index, row in df.iterrows():\n",
    "    if row['Record Type'] == 3:\n",
    "        vehicleID = row['Vehicle ID']\n",
    "        assert pd.isna(vehicleID) is False, \"Index {} is has an invalid vehicle ID\".format(index)"
   ]
  },
  {
   "cell_type": "code",
   "execution_count": 17,
   "metadata": {},
   "outputs": [],
   "source": [
    "# Every record have a crash ID\n",
    "if 'Crash ID' not in df.columns:\n",
    "    print(\"Crash ID doesn't exist in table!\")\n",
    "    \n",
    "for index, row in df.iterrows():\n",
    "    crashID = row['Crash ID']\n",
    "    assert pd.isna(crashID) is False, \"Index {} is missing crash ID\".format(index)"
   ]
  },
  {
   "cell_type": "code",
   "execution_count": 18,
   "metadata": {},
   "outputs": [],
   "source": [
    "# Every vehicle record has a vehicle ID\n",
    "if 'Vehicle ID' not in df.columns:\n",
    "    print(\"Vehicle ID doesn't exist in table!\")\n",
    "    \n",
    "for index, row in df.iterrows():\n",
    "    if row['Record Type'] == 2:\n",
    "        vehicleID = row['Vehicle ID']\n",
    "        assert pd.isna(vehicleID) is False, \"Index {} is has an invalid vehicle ID\".format(index)"
   ]
  },
  {
   "cell_type": "code",
   "execution_count": 20,
   "metadata": {},
   "outputs": [],
   "source": [
    "# Every participant record has a participant ID\n",
    "if 'Participant ID' not in df.columns:\n",
    "    print(\"Participant ID doesn't exist in table!\")\n",
    "    \n",
    "for index, row in df.iterrows():\n",
    "    if row['Record Type'] == 3:\n",
    "        participantID = row['Participant ID']\n",
    "        assert pd.isna(participantID) is False, \"Index {} is has an invalid participant ID\".format(index)"
   ]
  },
  {
   "cell_type": "code",
   "execution_count": 24,
   "metadata": {},
   "outputs": [],
   "source": [
    "# The crash day should be a value between 1 and 31 inclusive.\n",
    "if 'Crash Day' not in df.columns:\n",
    "    print(\"Crash Day doesn't exist in table!\")\n",
    "    \n",
    "for index, row in df.iterrows():\n",
    "    if row['Record Type'] == 1:\n",
    "        crashDay = row['Crash Day']\n",
    "        assert pd.isna(crashDay) is False and crashDay >= 1 and crashDay <= 31, \"Index {} is has an invalid crash day\".format(index)"
   ]
  },
  {
   "cell_type": "code",
   "execution_count": 36,
   "metadata": {},
   "outputs": [],
   "source": [
    "# The crash month should be a value between 1 and 12 inclusive.\n",
    "\n",
    "if 'Crash Month' not in df.columns:\n",
    "    print(\"Crash Month doesn't exist in table!\")\n",
    "    \n",
    "for index, row in df.iterrows():\n",
    "    if row['Record Type'] == 1:\n",
    "        crashMonth = row['Crash Month']\n",
    "        assert pd.isna(crashMonth) is False and (crashMonth >= 0 and crashMonth <= 12), \"Index {} is has an invalid crash month\".format(index)"
   ]
  },
  {
   "cell_type": "code",
   "execution_count": 37,
   "metadata": {},
   "outputs": [],
   "source": [
    "# Crash hour must have code between 00 and 24 or 99.\n",
    "if 'Crash Hour' not in df.columns:\n",
    "    print(\"Crash Hour doesn't exist in table!\")\n",
    "    \n",
    "for index, row in df.iterrows():\n",
    "    if row['Record Type'] == 1:\n",
    "        crashHour = row['Crash Hour']\n",
    "        assert pd.isna(crashHour) is False and (crashHour >= 0 and crashHour <= 24) or crashHour == 99, \"Index {} is has an invalid crash hour\".format(index)"
   ]
  },
  {
   "cell_type": "code",
   "execution_count": 46,
   "metadata": {},
   "outputs": [],
   "source": [
    "# Combination of month, day and year must represent a valid date\n",
    "\n",
    "for index, row in df.iterrows():\n",
    "    if row['Record Type'] == 1:\n",
    "        try:\n",
    "            newDate = datetime.datetime(int(row['Crash Year']), int(row['Crash Month']), int(row['Crash Day']))\n",
    "        except ValueError:\n",
    "            print(\"Index {} has an invalid date\".format(index))"
   ]
  },
  {
   "cell_type": "code",
   "execution_count": null,
   "metadata": {},
   "outputs": [],
   "source": [
    "# Vehicle occupant count = safety equipment used quantity + safety equipment unused quantity + safety equipment use unknown quantity \n"
   ]
  },
  {
   "cell_type": "code",
   "execution_count": null,
   "metadata": {},
   "outputs": [],
   "source": [
    "# Total persons involved count = total non-fatal injury count - total fatality count\n"
   ]
  },
  {
   "cell_type": "code",
   "execution_count": null,
   "metadata": {},
   "outputs": [],
   "source": [
    "# Total vehicle count = total number of vehicle records for this crash.\n"
   ]
  },
  {
   "cell_type": "code",
   "execution_count": null,
   "metadata": {},
   "outputs": [],
   "source": [
    "# Total minor injury count = total number of participant records with injury severity value 4 "
   ]
  },
  {
   "cell_type": "code",
   "execution_count": 53,
   "metadata": {},
   "outputs": [],
   "source": [
    "# Every crash has a unique Crash ID\n",
    "crashIDMap = {}\n",
    "\n",
    "for index, row in df.iterrows():\n",
    "    if row['Record Type'] == 1:\n",
    "        crashID = row['Crash ID']\n",
    "        if crashID in crashIDMap:\n",
    "            print(\"Index {} has a duplicate crash ID\".format(index))\n",
    "        else:\n",
    "            crashIDMap[crashID] = True"
   ]
  },
  {
   "cell_type": "code",
   "execution_count": 54,
   "metadata": {},
   "outputs": [],
   "source": [
    "# Every crash has a unique Vehicle ID\n",
    "vehicleIDMap = {}\n",
    "\n",
    "for index, row in df.iterrows():\n",
    "    if row['Record Type'] == 2:\n",
    "        vehicleID = row['Vehicle ID']\n",
    "        if vehicleID in vehicleIDMap:\n",
    "            print(\"Index {} has a duplicate vehicle ID\".format(index))\n",
    "        else:\n",
    "            vehicleIDMap[vehicleID] = True"
   ]
  },
  {
   "cell_type": "code",
   "execution_count": 58,
   "metadata": {},
   "outputs": [
    {
     "name": "stdout",
     "output_type": "stream",
     "text": [
      "Index 8, Participant ID 3888074.0 has an unknown vehicle ID\n",
      "Index 15, Participant ID 3890873.0 has an unknown vehicle ID\n",
      "Index 60, Participant ID 3917895.0 has an unknown vehicle ID\n",
      "Index 61, Participant ID 3917896.0 has an unknown vehicle ID\n",
      "Index 62, Participant ID 3917897.0 has an unknown vehicle ID\n",
      "Index 92, Participant ID 3920554.0 has an unknown vehicle ID\n",
      "Index 272, Participant ID 3934436.0 has an unknown vehicle ID\n",
      "Index 587, Participant ID 3948382.0 has an unknown vehicle ID\n",
      "Index 667, Participant ID 3950096.0 has an unknown vehicle ID\n",
      "Index 668, Participant ID 3950097.0 has an unknown vehicle ID\n",
      "Index 704, Participant ID 3950705.0 has an unknown vehicle ID\n",
      "Index 818, Participant ID 3952798.0 has an unknown vehicle ID\n",
      "Index 819, Participant ID 3952799.0 has an unknown vehicle ID\n",
      "Index 951, Participant ID 3956990.0 has an unknown vehicle ID\n",
      "Index 1367, Participant ID 3964941.0 has an unknown vehicle ID\n",
      "Index 1827, Participant ID 3973419.0 has an unknown vehicle ID\n",
      "Index 1933, Participant ID 3974799.0 has an unknown vehicle ID\n",
      "Index 2026, Participant ID 3975837.0 has an unknown vehicle ID\n",
      "Index 2122, Participant ID 3977088.0 has an unknown vehicle ID\n",
      "Index 2147, Participant ID 3977372.0 has an unknown vehicle ID\n",
      "Index 2162, Participant ID 3977520.0 has an unknown vehicle ID\n",
      "Index 2310, Participant ID 3979355.0 has an unknown vehicle ID\n",
      "Index 2350, Participant ID 3979695.0 has an unknown vehicle ID\n",
      "Index 2421, Participant ID 3980498.0 has an unknown vehicle ID\n"
     ]
    }
   ],
   "source": [
    "# Every crash participant has a Vehicle ID of a known Vehicle\n",
    "\n",
    "for index, row in df.iterrows():\n",
    "    if row['Record Type'] == 3:\n",
    "        vehicleID = row['Vehicle ID']\n",
    "        if vehicleID not in vehicleIDMap:\n",
    "            print(\"Index {}, Participant ID {} has an unknown vehicle ID\".format(index, row['Participant ID']))"
   ]
  },
  {
   "cell_type": "code",
   "execution_count": 65,
   "metadata": {},
   "outputs": [],
   "source": [
    "# Every crash vehicle has a Crash ID of a known crash\n",
    "\n",
    "for index, row in df.iterrows():\n",
    "    if row['Record Type'] == 2:\n",
    "        crashID = row['Crash ID']\n",
    "        if crashID not in crashIDMap:\n",
    "            print(\"Index {}, Vehicle ID {} has an unknown crash ID\".format(index, row['Crash ID']))"
   ]
  },
  {
   "cell_type": "code",
   "execution_count": 76,
   "metadata": {},
   "outputs": [
    {
     "name": "stdout",
     "output_type": "stream",
     "text": [
      "[6.0, 2.0, 2.0, nan, 2.0, 2.0, nan, 9.0, 2.0, 2.0, 9.0, 9.0, 2.0, 9.0, 0.0, 2.0, 2.0, 2.0, 2.0, 2.0, 2.0, 2.0, 2.0, 2.0, 2.0, 2.0, 2.0, nan, nan, nan, 2.0, 2.0, 2.0, 2.0, 2.0, 2.0, 2.0, 2.0, 2.0, 2.0, 2.0, 4.0, 2.0, 2.0, 2.0, 2.0, nan, 9.0, 2.0, 2.0, 6.0, 9.0, 2.0, 9.0, 9.0, 2.0, 6.0, 2.0, 2.0, 9.0, 2.0, 9.0, 2.0, 2.0, 9.0, 9.0, 2.0, 2.0, 2.0, 2.0, 2.0, 9.0, 2.0, 2.0, 2.0, 2.0, 2.0, 2.0, 2.0, 1.0, 2.0, 2.0, 2.0, 2.0, 2.0, 2.0, 2.0, 0.0, 0.0, 0.0, 2.0, 2.0, 2.0, 2.0, 2.0, 2.0, 2.0, 2.0, 2.0, 2.0, 2.0, 2.0, 2.0, 2.0, 2.0, 2.0, 2.0, 2.0, 2.0, 2.0, 9.0, 9.0, 2.0, 2.0, 2.0, 2.0, 2.0, 2.0, 2.0, 2.0, 2.0, 2.0, 2.0, nan, 2.0, 2.0, 2.0, 9.0, 9.0, 2.0, 2.0, 2.0, 2.0, 2.0, 9.0, 2.0, 9.0, 2.0, 2.0, 2.0, 9.0, 2.0, 0.0, 0.0, 2.0, 9.0, 2.0, 2.0, 2.0, 2.0, 2.0, 2.0, 2.0, 4.0, 4.0, 9.0, 9.0, 9.0, 9.0, 9.0, 9.0, 9.0, 9.0, 9.0, 9.0, 2.0, 2.0, 2.0, 9.0, 9.0, 9.0, 2.0, 9.0, 9.0, 9.0, 9.0, 9.0, 9.0, 9.0, 9.0, 9.0, 9.0, 9.0, 9.0, 9.0, 9.0, 9.0, 9.0, 9.0, 9.0, 9.0, 9.0, 2.0, 9.0, 2.0, 9.0, 9.0, 9.0, 2.0, 2.0, 9.0, 9.0, 2.0, 2.0, 9.0, 2.0, 2.0, 2.0, 2.0, 2.0, 4.0, 2.0, 2.0, 9.0, 9.0, 2.0, 2.0, 9.0, 9.0, 2.0, 2.0, 2.0, 2.0, 2.0, 2.0, 2.0, 2.0, 2.0, 2.0, 2.0, 2.0, 2.0, 2.0, 2.0, 2.0, 9.0, 2.0, 2.0, 2.0, 2.0, 2.0, 2.0, 2.0, 2.0, 4.0, 4.0, 2.0, 9.0, 2.0, 2.0, 2.0, 4.0, 0.0, 2.0, 2.0, 2.0, 2.0, 2.0, 9.0, 9.0, 2.0, 9.0, 2.0, 9.0, 2.0, 2.0, 9.0, 9.0, 9.0, 9.0, 9.0, 9.0, 2.0, 2.0, 2.0, 9.0, 9.0, 2.0, 2.0, 9.0, 9.0, 2.0, 2.0, 2.0, 9.0, 2.0, 2.0, 2.0, 9.0, 2.0, 2.0, 9.0, 2.0, 2.0, nan, nan, 2.0, 2.0, 9.0, 2.0, 2.0, 2.0, 2.0, 9.0, 9.0, 9.0, 9.0, 2.0, 2.0, 2.0, 9.0, 2.0, 9.0, 2.0, 2.0, 2.0, 2.0, 9.0, 9.0, 2.0, 2.0, 2.0, 2.0, 2.0, 2.0, 2.0, 2.0, 9.0, 9.0, 2.0, 2.0, 2.0, 2.0, 2.0, 9.0, 2.0, 2.0, 2.0, 9.0, 2.0, 2.0, 9.0, 2.0, 2.0, 9.0, 2.0, 2.0, 9.0, 2.0, 9.0, 2.0, 4.0, 9.0, 2.0, 2.0, 4.0, 2.0, 9.0, 2.0, 6.0, 2.0, 9.0, 9.0, 2.0, 9.0, nan, nan, 9.0, 2.0, 2.0, 2.0, 2.0, 9.0, 2.0, 2.0, 2.0, 2.0, 2.0, 2.0, 9.0, 9.0, 9.0, 2.0, 2.0, 4.0, 2.0, 2.0, 2.0, 9.0, 9.0, 2.0, 2.0, 2.0, 2.0, 9.0, 9.0, 9.0, 9.0, 9.0, 2.0, 2.0, 9.0, 2.0, 9.0, 2.0, 2.0, 2.0, 2.0, 9.0, 2.0, 2.0, 9.0, 2.0, 2.0, 2.0, 6.0, 6.0, 6.0, 2.0, 2.0, 2.0, 2.0, 2.0, 2.0, 2.0, 2.0, 9.0, nan, 2.0, 0.0, 2.0, 2.0, 2.0, 2.0, 2.0, 2.0, 9.0, 2.0, 2.0, 9.0, 2.0, 9.0, 2.0, 2.0, 2.0, 2.0, 2.0, 2.0, 2.0, 9.0, 2.0, 2.0, 9.0, 2.0, 2.0, 2.0, 9.0, 2.0, 2.0, 2.0, 2.0, 2.0, 2.0, 2.0, 2.0, 2.0, 2.0, 2.0, 9.0, 2.0, 2.0, 2.0, 2.0, 2.0, 2.0, 9.0, 2.0, 2.0, 0.0, 2.0, 9.0, 0.0, 9.0, 2.0, 9.0, 9.0, 9.0, 9.0, 2.0, 2.0, 2.0, 2.0, 2.0, 2.0, 2.0, 2.0, 2.0, 9.0, 9.0, 9.0, 2.0, 9.0, 9.0, 2.0, 2.0, 9.0, 2.0, 9.0, 9.0, 2.0, 2.0, 9.0, 9.0, 9.0, 2.0, 2.0, 9.0, 2.0, 2.0, 2.0, 9.0, 9.0, 2.0, 9.0, 2.0, 2.0, 2.0, 9.0, 9.0, 9.0, 9.0, 2.0, 2.0, 2.0, 9.0, 2.0, 9.0, 2.0, 2.0, 2.0, 9.0, 9.0, 9.0, 9.0, 9.0, 9.0, 9.0, 2.0, 2.0, 9.0, 2.0, 9.0, 2.0, 2.0, 2.0, 9.0, 9.0, 2.0, 2.0, 2.0, 2.0, 2.0, 2.0, 2.0, 9.0, 6.0, 2.0, 9.0, 2.0, 9.0, 9.0, 9.0, 9.0, 9.0, 9.0, 2.0, 2.0, 9.0, 2.0, 9.0, 2.0, 2.0, 2.0, 9.0, 9.0, 2.0, 2.0, 2.0, 2.0, 2.0, 9.0, 2.0, 9.0, 9.0, 9.0, 9.0, 2.0, 9.0, 9.0, 9.0, 2.0, 2.0, 9.0, 9.0, 9.0, 9.0, 2.0, 9.0, 9.0, 2.0, 2.0, 2.0, 9.0, nan, 2.0, 2.0, 0.0, 2.0, 2.0, 2.0, 9.0, 2.0, 2.0, 2.0, 2.0, 2.0, 2.0, 9.0, 2.0, 2.0, 2.0, 9.0, 9.0, 2.0, 2.0, 2.0, 2.0, 2.0, 9.0, 2.0, 2.0, 2.0, 2.0, 2.0, 9.0, 2.0, 2.0, 9.0, 2.0, 2.0, 9.0, 2.0, 9.0, 2.0, 6.0, 2.0, 2.0, 2.0, 2.0, 2.0, 2.0, 2.0, 2.0, 2.0, 9.0, 9.0, 9.0, 9.0, 2.0, 2.0, 2.0, 2.0, 9.0, 2.0, 2.0, 2.0, 2.0, 2.0, 9.0, 2.0, 9.0, 2.0, 2.0, 2.0, 6.0, 2.0, 2.0, 2.0, 2.0, 2.0, 2.0, 2.0, 9.0, 2.0, 2.0, 2.0, 2.0, 9.0, 2.0, 2.0, 2.0, 9.0, 2.0, 2.0, 2.0, 2.0, 2.0, 9.0, 2.0, 2.0, 2.0, 9.0, 9.0, 2.0, 9.0, 2.0, 2.0, 2.0, 9.0, 2.0, 2.0, 9.0, 9.0, 2.0, 9.0, 2.0, 2.0, 2.0, 4.0, 4.0, 4.0, 2.0, 2.0, 2.0, 9.0, 2.0, 2.0, 2.0, 2.0, 2.0, 9.0, 2.0, 9.0, 9.0, 9.0, 9.0, 9.0, 2.0, 2.0, 2.0, 2.0, 0.0, 0.0, 2.0, 2.0, 2.0, 2.0, 2.0, 9.0, 9.0, 2.0, 2.0, 9.0, 9.0, 9.0, 9.0, 2.0, 2.0, 2.0, 2.0, 2.0, 2.0, 9.0, 2.0, 2.0, 2.0, 9.0, 2.0, 2.0, 2.0, 2.0, 2.0, 2.0, 9.0, 2.0, 2.0, 2.0, 2.0, 6.0, 2.0, 9.0, 2.0, 9.0, 9.0, 2.0, 2.0, 2.0, 9.0, 2.0, 9.0, 9.0, 9.0, 9.0, 2.0, 0.0, 0.0, 0.0, 0.0, 9.0, 2.0, 2.0, 9.0, 2.0, 4.0, 4.0, 9.0, 9.0, 9.0, 2.0, 2.0, 2.0, 9.0, nan, 2.0, 2.0, 9.0, 2.0, 2.0, 2.0, 9.0, 9.0, 2.0, 9.0, 2.0, 2.0, 2.0, 9.0, 2.0, 2.0, 2.0, 2.0, 2.0, 9.0, 2.0, 2.0, 2.0, 2.0, 9.0, 2.0, 2.0, 9.0, 2.0, 2.0, 9.0, 2.0, 9.0, 2.0, 2.0, 2.0, 9.0, 2.0, 2.0, 2.0, 9.0, 2.0, 2.0, 2.0, 9.0, nan, 2.0, 9.0, 2.0, 9.0, 9.0, 9.0, 9.0, 9.0, 2.0, 2.0, 9.0, 9.0, 2.0, 2.0, 2.0, 2.0, 2.0, 2.0, 2.0, 9.0, 2.0, 9.0, 2.0, 9.0, 2.0, 9.0, 2.0, 2.0, 9.0, 2.0, 9.0, 9.0, 9.0, 9.0, 2.0, 2.0, 9.0, 2.0, 9.0, 2.0, 2.0, nan, 2.0, 2.0, 2.0, 2.0, 2.0, 2.0, 2.0, 2.0, 2.0, 2.0, 9.0, 2.0, 2.0, 2.0, 2.0, 2.0, 2.0, 9.0, 9.0, 2.0, 2.0, 2.0, 9.0, 2.0, 2.0, 9.0, 2.0, 9.0, 2.0, 2.0, 2.0, 2.0, 9.0, 9.0, 2.0, 2.0, 2.0, 2.0, 9.0, 9.0, 9.0, nan, 2.0, 2.0, 9.0, 2.0, 2.0, 9.0, 9.0, 9.0, 2.0, 2.0, 6.0, 2.0, 9.0, 2.0, 2.0, 2.0, 9.0, nan, 9.0, 2.0, 2.0, 9.0, 2.0, 2.0, 9.0, 2.0, 2.0, 2.0, 9.0, 2.0, 2.0, 9.0, 2.0, 9.0, 2.0, 2.0, 2.0, 2.0, 2.0, 2.0, 2.0, 2.0, 2.0, 9.0, 9.0, 9.0, 9.0, 2.0, 2.0, 2.0, 9.0, 2.0, 2.0, 2.0, 0.0, 9.0, 9.0, 9.0, 9.0, 9.0, 9.0, 2.0, 2.0, 2.0, 2.0, 2.0, 2.0, 9.0, 2.0, 2.0, 2.0, 9.0, 2.0, 2.0, 9.0, 2.0, 9.0, 9.0, 2.0, 2.0, 2.0, 2.0, 2.0, 2.0, 2.0, nan, 2.0, 2.0, 9.0, 2.0, 2.0, 9.0, 2.0, 2.0, 2.0, 2.0, 2.0, 2.0, 2.0, 2.0, 2.0, 2.0, 2.0, 2.0, nan, 2.0, 2.0, 2.0, 9.0, 2.0, 2.0, 2.0, 2.0, 2.0, 2.0, 0.0, 0.0, 0.0, 9.0, 2.0, 2.0, 2.0, 9.0, 9.0, 9.0, 2.0, 9.0, 2.0, 9.0, 2.0, 9.0, 2.0, 2.0, 2.0, 2.0, 9.0, 9.0, 2.0, 9.0, 2.0, 2.0, 2.0, 2.0, 9.0, 9.0, 9.0, 9.0, 2.0, 9.0, 9.0, 0.0, 9.0, 2.0, 2.0, 9.0, 9.0, 9.0, 9.0, 9.0, 9.0, 9.0, 9.0, 9.0, 9.0, 9.0, 9.0, 9.0, 9.0, 9.0, 9.0, 9.0, 9.0, 9.0, 9.0, 9.0, 9.0, 9.0, 9.0, 2.0, 2.0, 9.0, 9.0, 9.0, 9.0, 9.0, 9.0, 9.0, 9.0, 9.0, 9.0, 9.0, 9.0, 9.0, 9.0, 9.0, 9.0, 9.0, 9.0, 9.0, 9.0, 9.0, 9.0, 9.0, 9.0, 9.0, 9.0, 9.0, 9.0, 9.0, 9.0, 9.0, 9.0, 9.0, 9.0, 9.0, 9.0, 9.0, 9.0, 9.0, 9.0, 9.0, 9.0, 9.0, 9.0, 9.0, 9.0, 9.0, 9.0, 9.0, 9.0, 9.0, 9.0, 9.0, 9.0, 9.0, 9.0, 9.0, 9.0, 9.0, 9.0, 9.0, 9.0, 9.0, 9.0, 9.0, 9.0, 9.0, 9.0, 9.0, 9.0, 9.0, 9.0, 9.0, 9.0, 9.0, 9.0, 9.0, 9.0, 9.0, 9.0, 9.0, 9.0, 9.0]\n"
     ]
    }
   ],
   "source": [
    "crashDay = []\n",
    "crashMonth = []\n",
    "crashAge = []\n",
    "for index, row in df.iterrows():\n",
    "    if row['Record Type'] == 1:\n",
    "        crashDay.append(row['Crash Day'])\n",
    "        crashMonth.append(row['Crash Month'])\n",
    "    if row['Record Type'] == 3:\n",
    "        crashAge.append(row['Age'])\n",
    "    \n",
    "print(crashAge)"
   ]
  },
  {
   "cell_type": "code",
   "execution_count": 79,
   "metadata": {},
   "outputs": [
    {
     "name": "stderr",
     "output_type": "stream",
     "text": [
      "c:\\python\\python38\\lib\\site-packages\\seaborn\\distributions.py:2557: FutureWarning: `distplot` is a deprecated function and will be removed in a future version. Please adapt your code to use either `displot` (a figure-level function with similar flexibility) or `histplot` (an axes-level function for histograms).\n",
      "  warnings.warn(msg, FutureWarning)\n"
     ]
    },
    {
     "data": {
      "image/png": "[encoded data removed]",
      "text/plain": [
       "<Figure size 432x288 with 1 Axes>"
      ]
     },
     "metadata": {
      "needs_background": "light"
     },
     "output_type": "display_data"
    }
   ],
   "source": [
    "# Crashes are evenly distributed throughout the day\n",
    "\n",
    "x = crashDay\n",
    "ax = sns.distplot(x, hist=True, kde=True, rug=False, color='m', bins=25, hist_kws={'edgecolor':'black'})\n",
    "plt.show()"
   ]
  },
  {
   "cell_type": "code",
   "execution_count": 74,
   "metadata": {},
   "outputs": [
    {
     "name": "stderr",
     "output_type": "stream",
     "text": [
      "c:\\python\\python38\\lib\\site-packages\\seaborn\\distributions.py:2557: FutureWarning: `distplot` is a deprecated function and will be removed in a future version. Please adapt your code to use either `displot` (a figure-level function with similar flexibility) or `histplot` (an axes-level function for histograms).\n",
      "  warnings.warn(msg, FutureWarning)\n"
     ]
    },
    {
     "data": {
      "image/png": "[encoded data removed]",
      "text/plain": [
       "<Figure size 432x288 with 1 Axes>"
      ]
     },
     "metadata": {
      "needs_background": "light"
     },
     "output_type": "display_data"
    }
   ],
   "source": [
    "# Crashes are evenly distributed throughout the month\n",
    "\n",
    "x = crashMonth\n",
    "ax = sns.distplot(x, hist=True, kde=True, rug=False, color='m', bins=25, hist_kws={'edgecolor':'black'})\n",
    "plt.show()"
   ]
  },
  {
   "cell_type": "code",
   "execution_count": 75,
   "metadata": {},
   "outputs": [
    {
     "name": "stderr",
     "output_type": "stream",
     "text": [
      "c:\\python\\python38\\lib\\site-packages\\seaborn\\distributions.py:2557: FutureWarning: `distplot` is a deprecated function and will be removed in a future version. Please adapt your code to use either `displot` (a figure-level function with similar flexibility) or `histplot` (an axes-level function for histograms).\n",
      "  warnings.warn(msg, FutureWarning)\n"
     ]
    },
    {
     "data": {
      "image/png": "[encoded data removed]",
      "text/plain": [
       "<Figure size 432x288 with 1 Axes>"
      ]
     },
     "metadata": {
      "needs_background": "light"
     },
     "output_type": "display_data"
    }
   ],
   "source": [
    "# Crashes are normally distributed over the range of ages.\n",
    "\n",
    "x = crashAge\n",
    "ax = sns.distplot(x, hist=True, kde=True, rug=False, color='m', bins=25, hist_kws={'edgecolor':'black'})\n",
    "plt.show()"
   ]
  },
  {
   "cell_type": "code",
   "execution_count": null,
   "metadata": {},
   "outputs": [],
   "source": []
  }
 ],
 "metadata": {
  "kernelspec": {
   "display_name": "Python 3",
   "language": "python",
   "name": "python3"
  },
  "language_info": {
   "codemirror_mode": {
    "name": "ipython",
    "version": 3
   },
   "file_extension": ".py",
   "mimetype": "text/x-python",
   "name": "python",
   "nbconvert_exporter": "python",
   "pygments_lexer": "ipython3",
   "version": "3.8.1"
  }
 },
 "nbformat": 4,
 "nbformat_minor": 4
}
